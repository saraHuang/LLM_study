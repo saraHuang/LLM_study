{
  "nbformat": 4,
  "nbformat_minor": 0,
  "metadata": {
    "colab": {
      "provenance": [],
      "include_colab_link": true
    },
    "kernelspec": {
      "name": "python3",
      "display_name": "Python 3"
    },
    "language_info": {
      "name": "python"
    }
  },
  "cells": [
    {
      "cell_type": "markdown",
      "metadata": {
        "id": "view-in-github",
        "colab_type": "text"
      },
      "source": [
        "<a href=\"https://colab.research.google.com/github/saraHuang/LLM_study/blob/main/Evol_instruct_%E6%95%99%E5%AD%B8_%E4%BD%BF%E7%94%A8%E6%A1%83%E5%9C%92%E6%8D%B7%E9%81%8B%E5%AE%A2%E6%9C%8D%E8%88%89%E4%BE%8B.ipynb\" target=\"_parent\"><img src=\"https://colab.research.google.com/assets/colab-badge.svg\" alt=\"Open In Colab\"/></a>"
      ]
    },
    {
      "cell_type": "markdown",
      "source": [
        "# 🥱 Evol_instruct 教學\n",
        "\n",
        "❤️ Created by [hengshiousheu](https://huggingface.co/Heng666)."
      ],
      "metadata": {
        "id": "JmM6XIG9sgTl"
      }
    },
    {
      "cell_type": "code",
      "execution_count": null,
      "metadata": {
        "colab": {
          "base_uri": "https://localhost:8080/"
        },
        "id": "qzFDCYbESl9i",
        "outputId": "dc1df16f-2d32-4e46-fa61-23f826524809"
      },
      "outputs": [
        {
          "output_type": "stream",
          "name": "stdout",
          "text": [
            "Cloning into 'Darwin'...\n",
            "remote: Enumerating objects: 68, done.\u001b[K\n",
            "remote: Counting objects: 100% (68/68), done.\u001b[K\n",
            "remote: Compressing objects: 100% (53/53), done.\u001b[K\n",
            "remote: Total 68 (delta 37), reused 35 (delta 14), pack-reused 0 (from 0)\u001b[K\n",
            "Receiving objects: 100% (68/68), 99.08 KiB | 563.00 KiB/s, done.\n",
            "Resolving deltas: 100% (37/37), done.\n",
            "/content/Darwin\n"
          ]
        }
      ],
      "source": [
        "# prompt: clone this repo https://github.com/Heng-xiu/Darwin.git\n",
        "\n",
        "!git clone -b feature/zh-prompt https://github.com/Heng-xiu/Darwin.git\n",
        "\n",
        "%cd Darwin"
      ]
    },
    {
      "cell_type": "code",
      "source": [
        "!pip install -U -q load_dotenv openai"
      ],
      "metadata": {
        "id": "INhik01qTigL",
        "colab": {
          "base_uri": "https://localhost:8080/"
        },
        "outputId": "b52c5d01-0146-4a74-8d26-360c4df168e1"
      },
      "execution_count": null,
      "outputs": [
        {
          "output_type": "stream",
          "name": "stdout",
          "text": [
            "\u001b[?25l   \u001b[90m━━━━━━━━━━━━━━━━━━━━━━━━━━━━━━━━━━━━━━━━\u001b[0m \u001b[32m0.0/735.8 kB\u001b[0m \u001b[31m?\u001b[0m eta \u001b[36m-:--:--\u001b[0m\r\u001b[2K   \u001b[91m━━━━━━━━━━━━━━━━━━━━━━━━━━━━━━━━━━━━━━━\u001b[0m\u001b[91m╸\u001b[0m \u001b[32m727.0/735.8 kB\u001b[0m \u001b[31m21.9 MB/s\u001b[0m eta \u001b[36m0:00:01\u001b[0m\r\u001b[2K   \u001b[90m━━━━━━━━━━━━━━━━━━━━━━━━━━━━━━━━━━━━━━━━\u001b[0m \u001b[32m735.8/735.8 kB\u001b[0m \u001b[31m15.7 MB/s\u001b[0m eta \u001b[36m0:00:00\u001b[0m\n",
            "\u001b[?25h"
          ]
        }
      ]
    },
    {
      "cell_type": "code",
      "source": [
        "#read -s -p \"Enter your OpenAI API key: \" OPENAI_API_KEY\n",
        "#export OPENAI_API_KEY\n",
        "\n",
        "import os\n",
        "from getpass import getpass\n",
        "\n",
        "api_key = getpass('Enter your OpenAI API key: ')\n",
        "\n",
        "with open('.env', 'w') as f:\n",
        "  f.write('OPENAI_API_KEY={}\\n'.format(api_key))\n"
      ],
      "metadata": {
        "colab": {
          "base_uri": "https://localhost:8080/"
        },
        "id": "BmodcJYJUG9p",
        "outputId": "2d1a006a-53dd-4690-cd08-33c84055b597"
      },
      "execution_count": null,
      "outputs": [
        {
          "name": "stdout",
          "output_type": "stream",
          "text": [
            "Enter your OpenAI API key: ··········\n"
          ]
        }
      ]
    },
    {
      "cell_type": "code",
      "source": [
        "!python3 main.py ./桃園捷運對話種子.csv --validate"
      ],
      "metadata": {
        "colab": {
          "base_uri": "https://localhost:8080/"
        },
        "id": "pBumzhpxS5eq",
        "outputId": "63921854-0410-44b6-e025-78fb12f12cb1"
      },
      "execution_count": null,
      "outputs": [
        {
          "output_type": "stream",
          "name": "stdout",
          "text": [
            "CSV format is valid.\n"
          ]
        }
      ]
    },
    {
      "cell_type": "code",
      "source": [
        "# prompt: 使用 python 程式碼讓只留下 ./prompts.csv 前五筆資料\n",
        "\n",
        "import pandas as pd\n",
        "\n",
        "df = pd.read_csv('./桃園捷運對話種子.csv')\n",
        "df = df.head(5)\n",
        "df.to_csv('./桃園捷運對話種子_trunk.csv', index=False)\n"
      ],
      "metadata": {
        "id": "Da6tDMBNVltZ"
      },
      "execution_count": null,
      "outputs": []
    },
    {
      "cell_type": "code",
      "source": [
        "#@title 1. 保持此標籤處於活動狀態，以防止 Colab 斷開您的連接。 { display-mode: \"form\" }\n",
        "\n",
        "#@markdown 在下方出現的音樂播放器上按播放鍵:\n",
        "%%html\n",
        "<audio src=\"https://oobabooga.github.io/silence.m4a\" controls>"
      ],
      "metadata": {
        "colab": {
          "base_uri": "https://localhost:8080/",
          "height": 75
        },
        "id": "vm6JOfoBZNfb",
        "outputId": "a721a533-2a68-44db-c893-ee48c1323c6d"
      },
      "execution_count": null,
      "outputs": [
        {
          "output_type": "display_data",
          "data": {
            "text/plain": [
              "<IPython.core.display.HTML object>"
            ],
            "text/html": [
              "<audio src=\"https://oobabooga.github.io/silence.m4a\" controls>\n"
            ]
          },
          "metadata": {}
        }
      ]
    },
    {
      "cell_type": "code",
      "source": [
        "!python3 main.py ./桃園捷運對話種子_trunk.csv --epochs 1"
      ],
      "metadata": {
        "colab": {
          "base_uri": "https://localhost:8080/"
        },
        "id": "FK3wWst6Tbtb",
        "outputId": "b89a008c-b12b-4a87-bb46-017feb4049e5"
      },
      "execution_count": null,
      "outputs": [
        {
          "output_type": "stream",
          "name": "stdout",
          "text": [
            "Loaded 5 rows from ./桃園捷運對話種子_trunk.csv\n",
            "Evolving prompts from ./桃園捷運對話種子_trunk.csv for 1 epochs.\n",
            "Evolving epoch #1\n",
            "Epoch 1 Progress: 100%|███████████████████████████████████████████████| 5/5 [00:36<00:00,  7.36s/it]\n",
            "\n",
            "Total Trees in Forest: 10, Total Nodes in Forest: 30\n",
            "Leaves Added in Epoch 1: 20\n",
            "Root Nodes Added in Epoch 1: 5\n",
            "Results saved to output.csv_epoch1_20250624_073717.csv after epoch 1\n"
          ]
        }
      ]
    },
    {
      "cell_type": "code",
      "source": [],
      "metadata": {
        "id": "3CuViFyGUpEe"
      },
      "execution_count": null,
      "outputs": []
    }
  ]
}