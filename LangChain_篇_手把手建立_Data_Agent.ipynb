{
  "cells": [
    {
      "cell_type": "markdown",
      "metadata": {
        "id": "view-in-github",
        "colab_type": "text"
      },
      "source": [
        "<a href=\"https://colab.research.google.com/github/saraHuang/LLM_study/blob/main/LangChain_%E7%AF%87_%E6%89%8B%E6%8A%8A%E6%89%8B%E5%BB%BA%E7%AB%8B_Data_Agent.ipynb\" target=\"_parent\"><img src=\"https://colab.research.google.com/assets/colab-badge.svg\" alt=\"Open In Colab\"/></a>"
      ]
    },
    {
      "cell_type": "markdown",
      "source": [
        "# 🥱 LangChain 篇_手把手建立 Data Agent\n",
        "\n",
        "❤️ Created by [hengshiousheu](https://huggingface.co/Heng666)."
      ],
      "metadata": {
        "id": "d2Ra2y4Tnk3B"
      }
    },
    {
      "cell_type": "markdown",
      "source": [
        "# 整體概念\n",
        "\n",
        "本筆記本用於交售第一次接觸大型語言模型開發者，如何透過 LangChain 工具來建構自己的 LLM 應用程式開發。本範例終將提供以下以幾個使用範例：\n",
        "\n",
        "1. `建構 Text2SQL`: 基於使用者自然語言轉換成 SQL 用語\n",
        "2. `查詢 SQL 資料庫`: 建構專屬 Chain 達成自然語言直接操作資料庫\n",
        "3. `與 SQLDB Agent 互動`: 使用 Agner 進行嗆大且具備彈性的操作。\n",
        "\n",
        "![sql_usecase.png](https://github.com/langchain-ai/langchain/blob/master/docs/static/img/sql_usecase.png?raw=1)圖片取自: LangChain SQL_usecase 官網"
      ],
      "metadata": {
        "id": "5uAUrSzlNlKA"
      }
    },
    {
      "cell_type": "markdown",
      "metadata": {
        "id": "ACYKAIDECmFV"
      },
      "source": [
        "# 使用案例說明\n",
        "\n",
        "通常，企業資料通是存放在 SQL 資料庫中\n",
        "\n",
        "大型語言模型的出現，讓使用自然語言與 SQL 資料庫互動成為可能。\n",
        "\n",
        "其中，LangChain 提供 SQL 鏈和代理，以基於自然語言提示建立和執行 SQL 查詢。\n",
        "\n",
        "這些與 SQLAlchemy 支援的任何 SQL 直接相容（例如，MySQL、PostgreSQL、Oracle SQL、Databricks、SQLite）。\n",
        "\n",
        "LangChain 可用於以下使用案例：\n",
        "- 根據自然語言問題產生將執行的查詢\n",
        "- 建立可根據資料庫資料回答問題的聊天機器人\n",
        "\n"
      ]
    },
    {
      "cell_type": "markdown",
      "source": [
        "# 快速入門\n",
        "\n",
        "## 建置環境\n",
        "\n",
        "首先，取得必要的套件並設定環境變數："
      ],
      "metadata": {
        "id": "yXhiW8QFPjPy"
      }
    },
    {
      "cell_type": "code",
      "execution_count": null,
      "metadata": {
        "id": "-Dk53I1XCmFV",
        "outputId": "87a0bd16-e045-40e8-e0a6-f13edd10bda2",
        "colab": {
          "base_uri": "https://localhost:8080/"
        }
      },
      "outputs": [
        {
          "output_type": "stream",
          "name": "stdout",
          "text": [
            "\u001b[?25l   \u001b[90m━━━━━━━━━━━━━━━━━━━━━━━━━━━━━━━━━━━━━━━━\u001b[0m \u001b[32m0.0/1.0 MB\u001b[0m \u001b[31m?\u001b[0m eta \u001b[36m-:--:--\u001b[0m\r\u001b[2K   \u001b[91m━━━━━━━━━━━━━━━━━━━\u001b[0m\u001b[91m╸\u001b[0m\u001b[90m━━━━━━━━━━━━━━━━━━━━\u001b[0m \u001b[32m0.5/1.0 MB\u001b[0m \u001b[31m14.9 MB/s\u001b[0m eta \u001b[36m0:00:01\u001b[0m\r\u001b[2K   \u001b[90m━━━━━━━━━━━━━━━━━━━━━━━━━━━━━━━━━━━━━━━━\u001b[0m \u001b[32m1.0/1.0 MB\u001b[0m \u001b[31m15.9 MB/s\u001b[0m eta \u001b[36m0:00:00\u001b[0m\n",
            "\u001b[?25h\u001b[?25l   \u001b[90m━━━━━━━━━━━━━━━━━━━━━━━━━━━━━━━━━━━━━━━━\u001b[0m \u001b[32m0.0/209.2 kB\u001b[0m \u001b[31m?\u001b[0m eta \u001b[36m-:--:--\u001b[0m\r\u001b[2K   \u001b[90m━━━━━━━━━━━━━━━━━━━━━━━━━━━━━━━━━━━━━━━━\u001b[0m \u001b[32m209.2/209.2 kB\u001b[0m \u001b[31m14.9 MB/s\u001b[0m eta \u001b[36m0:00:00\u001b[0m\n",
            "\u001b[?25h\u001b[?25l   \u001b[90m━━━━━━━━━━━━━━━━━━━━━━━━━━━━━━━━━━━━━━━━\u001b[0m \u001b[32m0.0/69.2 kB\u001b[0m \u001b[31m?\u001b[0m eta \u001b[36m-:--:--\u001b[0m\r\u001b[2K   \u001b[90m━━━━━━━━━━━━━━━━━━━━━━━━━━━━━━━━━━━━━━━━\u001b[0m \u001b[32m69.2/69.2 kB\u001b[0m \u001b[31m5.9 MB/s\u001b[0m eta \u001b[36m0:00:00\u001b[0m\n",
            "\u001b[?25h\u001b[?25l   \u001b[90m━━━━━━━━━━━━━━━━━━━━━━━━━━━━━━━━━━━━━━━━\u001b[0m \u001b[32m0.0/2.5 MB\u001b[0m \u001b[31m?\u001b[0m eta \u001b[36m-:--:--\u001b[0m\r\u001b[2K   \u001b[91m━━━━━━━━━━━━━━━━━━━━━━━━━━━━━━━━━━━━━━\u001b[0m\u001b[91m╸\u001b[0m\u001b[90m━\u001b[0m \u001b[32m2.4/2.5 MB\u001b[0m \u001b[31m89.8 MB/s\u001b[0m eta \u001b[36m0:00:01\u001b[0m\r\u001b[2K   \u001b[90m━━━━━━━━━━━━━━━━━━━━━━━━━━━━━━━━━━━━━━━━\u001b[0m \u001b[32m2.5/2.5 MB\u001b[0m \u001b[31m40.4 MB/s\u001b[0m eta \u001b[36m0:00:00\u001b[0m\n",
            "\u001b[2K   \u001b[90m━━━━━━━━━━━━━━━━━━━━━━━━━━━━━━━━━━━━━━━━\u001b[0m \u001b[32m438.9/438.9 kB\u001b[0m \u001b[31m20.9 MB/s\u001b[0m eta \u001b[36m0:00:00\u001b[0m\n",
            "\u001b[2K   \u001b[90m━━━━━━━━━━━━━━━━━━━━━━━━━━━━━━━━━━━━━━━━\u001b[0m \u001b[32m45.2/45.2 kB\u001b[0m \u001b[31m2.5 MB/s\u001b[0m eta \u001b[36m0:00:00\u001b[0m\n",
            "\u001b[2K   \u001b[90m━━━━━━━━━━━━━━━━━━━━━━━━━━━━━━━━━━━━━━━━\u001b[0m \u001b[32m50.9/50.9 kB\u001b[0m \u001b[31m1.7 MB/s\u001b[0m eta \u001b[36m0:00:00\u001b[0m\n",
            "\u001b[?25h"
          ]
        }
      ],
      "source": [
        "%pip install --upgrade --quiet langchain langchain-experimental langchain-openai"
      ]
    },
    {
      "cell_type": "markdown",
      "source": [
        "我們需要設置 環境變數 `OPENAI_API_KEY` ，可以直接完成，如下所示："
      ],
      "metadata": {
        "id": "EANt9EBYQ6Vz"
      }
    },
    {
      "cell_type": "code",
      "source": [
        "import getpass\n",
        "import os\n",
        "\n",
        "os.environ[\"OPENAI_API_KEY\"] = getpass.getpass()"
      ],
      "metadata": {
        "colab": {
          "base_uri": "https://localhost:8080/"
        },
        "id": "EJOKuUBXRAVS",
        "outputId": "1944af13-d3f9-4e47-a85e-20cf6b4f2de4"
      },
      "execution_count": null,
      "outputs": [
        {
          "name": "stdout",
          "output_type": "stream",
          "text": [
            "··········\n"
          ]
        }
      ]
    },
    {
      "cell_type": "markdown",
      "source": [
        "## 如果是採用 Gemini 的話，可以修正成為以下內容\n",
        "\n",
        "https://python.langchain.com/docs/integrations/chat/google_generative_ai/"
      ],
      "metadata": {
        "id": "pGuSFdNkUigX"
      }
    },
    {
      "cell_type": "code",
      "source": [
        "!pip install --quiet langchain-google-genai"
      ],
      "metadata": {
        "id": "746MZbYUUrVj"
      },
      "execution_count": null,
      "outputs": []
    },
    {
      "cell_type": "code",
      "source": [
        "from langchain_google_genai import ChatGoogleGenerativeAI\n",
        "import os\n",
        "\n",
        "# 設置 Gemini API Key\n",
        "os.environ[\"GOOGLE_API_KEY\"] = \"你的_Gemini_API_Key\"\n",
        "\n",
        "# 初始化 Gemini 模型\n",
        "llm = ChatGoogleGenerativeAI(\n",
        "    model=\"gemini-2.0-flash\",  # 或其他 Gemini 模型名稱，例如 gemini-2.0-flash, gemini-1.5-flash\n",
        "    temperature=0\n",
        ")"
      ],
      "metadata": {
        "id": "LWahUYVjUlxP"
      },
      "execution_count": null,
      "outputs": []
    },
    {
      "cell_type": "markdown",
      "metadata": {
        "id": "Su2NML00CmFW"
      },
      "source": [
        "##建置資料庫\n",
        "\n",
        "以下範例將使用與 Chinook 資料庫的 SQLite 連線。\n",
        "\n",
        "依照安裝步驟，在與這個筆記本相同的目錄中建立 Chinook.db ：\n",
        "\n",
        "* `安裝 sqlite3` 套件於環境中\n",
        "* `使用 sqlite3 指令` 讀取內建 DB\n",
        "\n",
        "現在， Chinhook.db 在我們的目錄中。\n",
        "\n",
        "讓我們建立一個 SQLDatabaseChain 來建立和執行 SQL 查詢。\n",
        "\n",
        "要是不確定的話，可以看 [SQL Tutorial](https://www.sqlitetutorial.net/sqlite-sample-database/)來了解指令操作，還有資料庫中都裝了什麼"
      ]
    },
    {
      "cell_type": "code",
      "source": [
        "!apt-get install --upgrade --quiet sqlite3\n",
        "!wget https://raw.githubusercontent.com/lerocha/chinook-database/master/ChinookDatabase/DataSources/Chinook_Sqlite.sql\n",
        "!sqlite3 Chinook.db '.read Chinook_Sqlite.sql'"
      ],
      "metadata": {
        "id": "s_XiC_zAERX-",
        "outputId": "de7c1fd3-b296-4e84-a6c4-7dc37aad96ee",
        "colab": {
          "base_uri": "https://localhost:8080/"
        }
      },
      "execution_count": null,
      "outputs": [
        {
          "output_type": "stream",
          "name": "stdout",
          "text": [
            "Reading package lists...\n",
            "Building dependency tree...\n",
            "Reading state information...\n",
            "Suggested packages:\n",
            "  sqlite3-doc\n",
            "The following NEW packages will be installed:\n",
            "  sqlite3\n",
            "0 upgraded, 1 newly installed, 0 to remove and 35 not upgraded.\n",
            "Need to get 769 kB of archives.\n",
            "After this operation, 1,873 kB of additional disk space will be used.\n",
            "Get:1 http://archive.ubuntu.com/ubuntu jammy-updates/main amd64 sqlite3 amd64 3.37.2-2ubuntu0.4 [769 kB]\n",
            "Fetched 769 kB in 0s (3,303 kB/s)\n",
            "Selecting previously unselected package sqlite3.\n",
            "(Reading database ... 126308 files and directories currently installed.)\n",
            "Preparing to unpack .../sqlite3_3.37.2-2ubuntu0.4_amd64.deb ...\n",
            "Unpacking sqlite3 (3.37.2-2ubuntu0.4) ...\n",
            "Setting up sqlite3 (3.37.2-2ubuntu0.4) ...\n",
            "Processing triggers for man-db (2.10.2-1) ...\n",
            "--2025-06-24 04:59:46--  https://raw.githubusercontent.com/lerocha/chinook-database/master/ChinookDatabase/DataSources/Chinook_Sqlite.sql\n",
            "Resolving raw.githubusercontent.com (raw.githubusercontent.com)... 185.199.108.133, 185.199.109.133, 185.199.110.133, ...\n",
            "Connecting to raw.githubusercontent.com (raw.githubusercontent.com)|185.199.108.133|:443... connected.\n",
            "HTTP request sent, awaiting response... 200 OK\n",
            "Length: 611447 (597K) [text/plain]\n",
            "Saving to: ‘Chinook_Sqlite.sql’\n",
            "\n",
            "Chinook_Sqlite.sql  100%[===================>] 597.12K  --.-KB/s    in 0.05s   \n",
            "\n",
            "2025-06-24 04:59:46 (10.9 MB/s) - ‘Chinook_Sqlite.sql’ saved [611447/611447]\n",
            "\n"
          ]
        }
      ]
    },
    {
      "cell_type": "markdown",
      "source": [
        "## 建立語言模型 pipe\n",
        "\n",
        "這個環節中，我先指定語言模型為 OPEANAI model\n",
        "接著建立 SQLDBChain 來進行操作。"
      ],
      "metadata": {
        "id": "aD-e44xlTaI3"
      }
    },
    {
      "cell_type": "code",
      "execution_count": null,
      "metadata": {
        "id": "Ocsi57VjCmFW"
      },
      "outputs": [],
      "source": [
        "from langchain_community.utilities import SQLDatabase\n",
        "from langchain_experimental.sql import SQLDatabaseChain\n",
        "from langchain_openai import OpenAI\n",
        "\n",
        "db = SQLDatabase.from_uri(\"sqlite:///Chinook.db\")\n",
        "llm = OpenAI(temperature=0, verbose=True)\n",
        "db_chain = SQLDatabaseChain.from_llm(llm, db, verbose=True)"
      ]
    },
    {
      "cell_type": "markdown",
      "source": [
        "接著可以使用 Chain 透過語言模型來跟資料庫進行對話"
      ],
      "metadata": {
        "id": "gIbbZIh-ToAm"
      }
    },
    {
      "cell_type": "code",
      "execution_count": null,
      "metadata": {
        "scrolled": true,
        "id": "5SRm68TxCmFW",
        "outputId": "f6968873-bcb4-4d1d-dedd-6b00e76a0685",
        "colab": {
          "base_uri": "https://localhost:8080/"
        }
      },
      "outputs": [
        {
          "output_type": "stream",
          "name": "stdout",
          "text": [
            "\n",
            "\n",
            "\u001b[1m> Entering new SQLDatabaseChain chain...\u001b[0m\n",
            "How many employes inside?\n",
            "SQLQuery:\u001b[32;1m\u001b[1;3mSELECT COUNT(*) FROM Employee\u001b[0m\n",
            "SQLResult: \u001b[33;1m\u001b[1;3m[(8,)]\u001b[0m\n",
            "Answer:\u001b[32;1m\u001b[1;3mThere are 8 employees in the database.\u001b[0m\n",
            "\u001b[1m> Finished chain.\u001b[0m\n",
            "There are 8 employees in the database.\n"
          ]
        }
      ],
      "source": [
        "query_response = db_chain.run(\"How many employes inside?\")\n",
        "print(query_response)"
      ]
    },
    {
      "cell_type": "markdown",
      "metadata": {
        "id": "gWYGKSq-CmFW"
      },
      "source": [
        "\n",
        "### 想了解更多？\n",
        "\n",
        "好奇知道還有哪些表格行資料可以讀取的話，可以參考 Langchain 當中的文件，例如\n",
        "\n",
        "- [讀取 CSV 檔案](https://python.langchain.com/docs/integrations/toolkits/csv)\n",
        "- [讀取 Pandas DAtaFrame](https://python.langchain.com/docs/integrations/toolkits/pandas)"
      ]
    },
    {
      "cell_type": "markdown",
      "metadata": {
        "id": "LFhrrn_KCmFX"
      },
      "source": [
        "## 案例ㄧ: Text-to-SQL\n"
      ]
    },
    {
      "cell_type": "code",
      "execution_count": null,
      "metadata": {
        "id": "a3BQqSX4CmFX"
      },
      "outputs": [],
      "source": [
        "from langchain.chains import create_sql_query_chain\n",
        "from langchain_openai import ChatOpenAI"
      ]
    },
    {
      "cell_type": "markdown",
      "metadata": {
        "id": "_fxE_WyACmFX"
      },
      "source": [
        "讓我們建立將建構 SQL 查詢的鏈：\n"
      ]
    },
    {
      "cell_type": "code",
      "execution_count": null,
      "metadata": {
        "id": "XqsTUwUaCmFX",
        "outputId": "0ec5a24b-e9f7-4181-b8dd-929e0c13c4f9",
        "colab": {
          "base_uri": "https://localhost:8080/"
        }
      },
      "outputs": [
        {
          "output_type": "stream",
          "name": "stdout",
          "text": [
            "SELECT COUNT(\"EmployeeId\") AS \"TotalEmployees\" FROM \"Employee\"\n"
          ]
        }
      ],
      "source": [
        "chain = create_sql_query_chain(ChatOpenAI(temperature=0), db)\n",
        "response = chain.invoke({\"question\": \"How many employees are there\"})\n",
        "print(response)"
      ]
    },
    {
      "cell_type": "markdown",
      "metadata": {
        "id": "mlNGqIqGCmFX"
      },
      "source": [
        "在根據使用者問題建構 SQL 查詢後，我們可以執行查詢："
      ]
    },
    {
      "cell_type": "code",
      "execution_count": null,
      "metadata": {
        "id": "FyWXePVKCmFX",
        "outputId": "36567b26-42dd-473d-ea0d-720c7e742fbf",
        "colab": {
          "base_uri": "https://localhost:8080/",
          "height": 35
        }
      },
      "outputs": [
        {
          "output_type": "execute_result",
          "data": {
            "text/plain": [
              "'[(8,)]'"
            ],
            "application/vnd.google.colaboratory.intrinsic+json": {
              "type": "string"
            }
          },
          "metadata": {},
          "execution_count": 8
        }
      ],
      "source": [
        "db.run(response)"
      ]
    },
    {
      "cell_type": "markdown",
      "metadata": {
        "id": "PQLm8s_oCmFY"
      },
      "source": [
        "正如我們所見，SQL 查詢建構器鏈只*建立查詢*，而我們分別處理查詢執行。"
      ]
    },
    {
      "cell_type": "markdown",
      "source": [
        "### 建立 Prompt"
      ],
      "metadata": {
        "id": "ctAuw4myb6S2"
      }
    },
    {
      "cell_type": "code",
      "execution_count": null,
      "metadata": {
        "id": "uj7ITqiXCmFY"
      },
      "outputs": [],
      "source": [
        "from langchain.prompts import PromptTemplate\n",
        "\n",
        "TEMPLATE = \"\"\"Given an input question, first create a syntactically correct {dialect} query to run, then look at the results of the query and return the answer.\n",
        "Use the following format:\n",
        "\n",
        "Question: \"Question here\"\n",
        "SQLQuery: \"SQL Query to run\"\n",
        "SQLResult: \"Result of the SQLQuery\"\n",
        "Answer: \"Final answer here\"\n",
        "\n",
        "Only use the following tables:\n",
        "\n",
        "{table_info}.\n",
        "\n",
        "Some examples of SQL queries that correspond to questions are:\n",
        "\n",
        "{few_shot_examples}\n",
        "\n",
        "Question: {input}\"\"\"\n",
        "\n",
        "CUSTOM_PROMPT = PromptTemplate(\n",
        "    input_variables=[\"input\", \"few_shot_examples\", \"table_info\", \"dialect\"],\n",
        "    template=TEMPLATE,\n",
        ")"
      ]
    },
    {
      "cell_type": "markdown",
      "metadata": {
        "id": "Q5ZJOz2qCmFY"
      },
      "source": [
        "我們也可以在 LangChain 提示中心訪問此提示。"
      ]
    },
    {
      "cell_type": "code",
      "source": [
        "%pip install --upgrade --quiet langchainhub"
      ],
      "metadata": {
        "id": "jYMq97UnclxA"
      },
      "execution_count": null,
      "outputs": []
    },
    {
      "cell_type": "code",
      "execution_count": null,
      "metadata": {
        "id": "6XqesV3ZCmFY"
      },
      "outputs": [],
      "source": [
        "from langchain import hub\n",
        "\n",
        "CUSTOM_PROMPT = hub.pull(\"rlm/text-to-sql\")"
      ]
    },
    {
      "cell_type": "markdown",
      "metadata": {
        "id": "FitKS32nCmFY"
      },
      "source": [
        "## 案例二: Text-to-SQL 查詢與執行\n",
        "\n",
        "我們可以從 `langchain_experimental` 建立 `SQLDatabaseChain`  並執行 SQL 查詢。"
      ]
    },
    {
      "cell_type": "code",
      "execution_count": null,
      "metadata": {
        "id": "anzylRPLCmFY"
      },
      "outputs": [],
      "source": [
        "from langchain_experimental.sql import SQLDatabaseChain\n",
        "from langchain_openai import OpenAI\n",
        "\n",
        "llm = OpenAI(temperature=0, verbose=True)\n",
        "db_chain = SQLDatabaseChain.from_llm(llm, db, verbose=True)"
      ]
    },
    {
      "cell_type": "code",
      "execution_count": null,
      "metadata": {
        "id": "bNSCOM0qCmFY",
        "outputId": "bb7e4f57-4428-45db-bc22-adc3550cfb39",
        "colab": {
          "base_uri": "https://localhost:8080/",
          "height": 179
        }
      },
      "outputs": [
        {
          "output_type": "stream",
          "name": "stdout",
          "text": [
            "\n",
            "\n",
            "\u001b[1m> Entering new SQLDatabaseChain chain...\u001b[0m\n",
            "How many employees are there?\n",
            "SQLQuery:\u001b[32;1m\u001b[1;3mSELECT COUNT(*) FROM Employee\u001b[0m\n",
            "SQLResult: \u001b[33;1m\u001b[1;3m[(8,)]\u001b[0m\n",
            "Answer:\u001b[32;1m\u001b[1;3m8\u001b[0m\n",
            "\u001b[1m> Finished chain.\u001b[0m\n"
          ]
        },
        {
          "output_type": "execute_result",
          "data": {
            "text/plain": [
              "'8'"
            ],
            "application/vnd.google.colaboratory.intrinsic+json": {
              "type": "string"
            }
          },
          "metadata": {},
          "execution_count": 11
        }
      ],
      "source": [
        "db_chain.run(\"How many employees are there?\")"
      ]
    },
    {
      "cell_type": "markdown",
      "metadata": {
        "id": "TFlvZw04CmFY"
      },
      "source": [
        "正如我們所見，我們獲得與前一個案例相同的結果。\n",
        "\n",
        "在這裡，鏈也處理查詢執行，並根據使用者問題和查詢結果提供最終答案。\n",
        "\n",
        "**使用此方法時要小心**，因為它容易受到 `SQL Injection` 的影響：\n",
        "\n",
        "* 鏈正在執行由 LLM 建立的查詢，並且未經過驗證\n",
        "* 例如，記錄可能會無意中建立、修改或刪除_\n",
        "\n",
        "\n",
        "\n",
        "這就是我們看到 `SQLDatabaseChain` 在 `langchain_experimental` 內部的原因。\n"
      ]
    },
    {
      "cell_type": "markdown",
      "metadata": {
        "id": "4kt0WmtiCmFY"
      },
      "source": [
        "### 嘗試更多？\n",
        "\n",
        "可以通過多種方式增強 SQLDatabaseChain 的性能：\n",
        "\n",
        "* Adding sample rows 添加範例列\n",
        "* 指定自訂表格資訊\n",
        "*  使用 Query Checker 自行更正使用參數 use_query_checker=True 的無效 SQL\n",
        "* 自訂 LLM 提示包含特定說明或相關資訊，使用參數 prompt=CUSTOM_PROMPT\n",
        "* 取得中間步驟使用參數 return_intermediate_steps=True 存取 SQL 陳述式以及最終結果\n",
        "* 限制查詢將傳回的行數，使用參數 top_k=5\n",
        "\n",
        "在資料庫中的表格數目很大的情況下，您可能會發現 SQLDatabaseSequentialChain 很實用。\n",
        "這個 Sequential Chain 處理以下程序：\n",
        "\n",
        "1. 根據使用者問題決定要使用哪些表格\n",
        "2. 僅使用相關表格呼叫一般 SQL 資料庫鏈"
      ]
    },
    {
      "cell_type": "code",
      "execution_count": null,
      "metadata": {
        "id": "FFrcESU_CmFY"
      },
      "outputs": [],
      "source": [
        "db = SQLDatabase.from_uri(\n",
        "    \"sqlite:///Chinook.db\",\n",
        "    include_tables=[\n",
        "        \"Track\"\n",
        "    ],  # we include only one table to save tokens in the prompt :)\n",
        "    sample_rows_in_table_info=2,\n",
        ")"
      ]
    },
    {
      "cell_type": "markdown",
      "metadata": {
        "id": "0ajEj_H1CmFZ"
      },
      "source": [
        "範例資料列會在每個對應表格的欄位資訊之後加入 prompt 中。\n",
        "\n",
        "我們可以使用 `db.table_info` 並檢查哪些範例資料列包含在內："
      ]
    },
    {
      "cell_type": "code",
      "execution_count": null,
      "metadata": {
        "id": "gv-r_uJoCmFZ",
        "outputId": "aff3e282-8705-4892-96db-427b3a4f2f26",
        "colab": {
          "base_uri": "https://localhost:8080/"
        }
      },
      "outputs": [
        {
          "output_type": "stream",
          "name": "stdout",
          "text": [
            "\n",
            "CREATE TABLE \"Track\" (\n",
            "\t\"TrackId\" INTEGER NOT NULL, \n",
            "\t\"Name\" NVARCHAR(200) NOT NULL, \n",
            "\t\"AlbumId\" INTEGER, \n",
            "\t\"MediaTypeId\" INTEGER NOT NULL, \n",
            "\t\"GenreId\" INTEGER, \n",
            "\t\"Composer\" NVARCHAR(220), \n",
            "\t\"Milliseconds\" INTEGER NOT NULL, \n",
            "\t\"Bytes\" INTEGER, \n",
            "\t\"UnitPrice\" NUMERIC(10, 2) NOT NULL, \n",
            "\tPRIMARY KEY (\"TrackId\"), \n",
            "\tFOREIGN KEY(\"MediaTypeId\") REFERENCES \"MediaType\" (\"MediaTypeId\"), \n",
            "\tFOREIGN KEY(\"GenreId\") REFERENCES \"Genre\" (\"GenreId\"), \n",
            "\tFOREIGN KEY(\"AlbumId\") REFERENCES \"Album\" (\"AlbumId\")\n",
            ")\n",
            "\n",
            "/*\n",
            "2 rows from Track table:\n",
            "TrackId\tName\tAlbumId\tMediaTypeId\tGenreId\tComposer\tMilliseconds\tBytes\tUnitPrice\n",
            "1\tFor Those About To Rock (We Salute You)\t1\t1\t1\tAngus Young, Malcolm Young, Brian Johnson\t343719\t11170334\t0.99\n",
            "2\tBalls to the Wall\t2\t2\t1\tU. Dirkschneider, W. Hoffmann, H. Frank, P. Baltes, S. Kaufmann, G. Hoffmann\t342562\t5510424\t0.99\n",
            "*/\n"
          ]
        }
      ],
      "source": [
        "print(db.table_info)"
      ]
    },
    {
      "cell_type": "markdown",
      "metadata": {
        "id": "BuLBIkdZCmFZ"
      },
      "source": [
        "## 案例三: SQL agents\n",
        "\n",
        "LangChain 有一個 SQL Agent，它提供比 `SQLDatabaseChain`更靈活的方式與 SQL 資料庫互動。\n",
        "\n",
        "使用 SQL Agent 的主要優點是：\n",
        "\n",
        "它可以根據資料庫的結構以及資料庫的內容（例如描述特定表格）來回答問題\n",
        "\n",
        "它可以透過執行產生的查詢、擷取追蹤並正確地重新產生查詢，來從錯誤中復原\n",
        "\n",
        "要初始化代理，我們使用 `create_sql_agent` 函數。\n",
        "\n",
        "此 Agent 包含 `SQLDatabaseToolkit` ，其中包含下列工具：\n",
        "\n",
        "* 建立並執行查詢\n",
        "* 檢查查詢語法\n",
        "* 擷取表格說明"
      ]
    },
    {
      "cell_type": "code",
      "execution_count": null,
      "metadata": {
        "id": "00r8SfweCmFZ"
      },
      "outputs": [],
      "source": [
        "from langchain.agents import create_sql_agent\n",
        "\n",
        "# from langchain.agents import AgentExecutor\n",
        "from langchain.agents.agent_types import AgentType\n",
        "from langchain_community.agent_toolkits import SQLDatabaseToolkit\n",
        "\n",
        "db = SQLDatabase.from_uri(\"sqlite:///Chinook.db\")\n",
        "\n",
        "agent_executor = create_sql_agent(\n",
        "    llm=OpenAI(temperature=0),\n",
        "    toolkit=SQLDatabaseToolkit(db=db, llm=OpenAI(temperature=0)),\n",
        "    verbose=True,\n",
        "    agent_type=AgentType.ZERO_SHOT_REACT_DESCRIPTION,\n",
        ")"
      ]
    },
    {
      "cell_type": "markdown",
      "metadata": {
        "id": "P1A8JHBICmFZ"
      },
      "source": [
        "### Agent 任務示範 #1 - 執行查詢\n"
      ]
    },
    {
      "cell_type": "code",
      "execution_count": null,
      "metadata": {
        "id": "GuwRVuUQCmFZ",
        "outputId": "4b1f4719-9f39-4ffb-f6ad-3dfc65842275",
        "colab": {
          "base_uri": "https://localhost:8080/",
          "height": 1000
        }
      },
      "outputs": [
        {
          "output_type": "stream",
          "name": "stdout",
          "text": [
            "\n",
            "\n",
            "\u001b[1m> Entering new SQL Agent Executor chain...\u001b[0m\n",
            "\u001b[32;1m\u001b[1;3mAction: sql_db_list_tables\n",
            "Action Input: \u001b[0m\u001b[38;5;200m\u001b[1;3mAlbum, Artist, Customer, Employee, Genre, Invoice, InvoiceLine, MediaType, Playlist, PlaylistTrack, Track\u001b[0m\u001b[32;1m\u001b[1;3m I should query the Customer and Invoice tables to get the customer's country and the amount spent.\n",
            "Action: sql_db_schema\n",
            "Action Input: Customer, Invoice\u001b[0m\u001b[33;1m\u001b[1;3m\n",
            "CREATE TABLE \"Customer\" (\n",
            "\t\"CustomerId\" INTEGER NOT NULL, \n",
            "\t\"FirstName\" NVARCHAR(40) NOT NULL, \n",
            "\t\"LastName\" NVARCHAR(20) NOT NULL, \n",
            "\t\"Company\" NVARCHAR(80), \n",
            "\t\"Address\" NVARCHAR(70), \n",
            "\t\"City\" NVARCHAR(40), \n",
            "\t\"State\" NVARCHAR(40), \n",
            "\t\"Country\" NVARCHAR(40), \n",
            "\t\"PostalCode\" NVARCHAR(10), \n",
            "\t\"Phone\" NVARCHAR(24), \n",
            "\t\"Fax\" NVARCHAR(24), \n",
            "\t\"Email\" NVARCHAR(60) NOT NULL, \n",
            "\t\"SupportRepId\" INTEGER, \n",
            "\tPRIMARY KEY (\"CustomerId\"), \n",
            "\tFOREIGN KEY(\"SupportRepId\") REFERENCES \"Employee\" (\"EmployeeId\")\n",
            ")\n",
            "\n",
            "/*\n",
            "3 rows from Customer table:\n",
            "CustomerId\tFirstName\tLastName\tCompany\tAddress\tCity\tState\tCountry\tPostalCode\tPhone\tFax\tEmail\tSupportRepId\n",
            "1\tLuís\tGonçalves\tEmbraer - Empresa Brasileira de Aeronáutica S.A.\tAv. Brigadeiro Faria Lima, 2170\tSão José dos Campos\tSP\tBrazil\t12227-000\t+55 (12) 3923-5555\t+55 (12) 3923-5566\tluisg@embraer.com.br\t3\n",
            "2\tLeonie\tKöhler\tNone\tTheodor-Heuss-Straße 34\tStuttgart\tNone\tGermany\t70174\t+49 0711 2842222\tNone\tleonekohler@surfeu.de\t5\n",
            "3\tFrançois\tTremblay\tNone\t1498 rue Bélanger\tMontréal\tQC\tCanada\tH2G 1A7\t+1 (514) 721-4711\tNone\tftremblay@gmail.com\t3\n",
            "*/\n",
            "\n",
            "\n",
            "CREATE TABLE \"Invoice\" (\n",
            "\t\"InvoiceId\" INTEGER NOT NULL, \n",
            "\t\"CustomerId\" INTEGER NOT NULL, \n",
            "\t\"InvoiceDate\" DATETIME NOT NULL, \n",
            "\t\"BillingAddress\" NVARCHAR(70), \n",
            "\t\"BillingCity\" NVARCHAR(40), \n",
            "\t\"BillingState\" NVARCHAR(40), \n",
            "\t\"BillingCountry\" NVARCHAR(40), \n",
            "\t\"BillingPostalCode\" NVARCHAR(10), \n",
            "\t\"Total\" NUMERIC(10, 2) NOT NULL, \n",
            "\tPRIMARY KEY (\"InvoiceId\"), \n",
            "\tFOREIGN KEY(\"CustomerId\") REFERENCES \"Customer\" (\"CustomerId\")\n",
            ")\n",
            "\n",
            "/*\n",
            "3 rows from Invoice table:\n",
            "InvoiceId\tCustomerId\tInvoiceDate\tBillingAddress\tBillingCity\tBillingState\tBillingCountry\tBillingPostalCode\tTotal\n",
            "1\t2\t2021-01-01 00:00:00\tTheodor-Heuss-Straße 34\tStuttgart\tNone\tGermany\t70174\t1.98\n",
            "2\t4\t2021-01-02 00:00:00\tUllevålsveien 14\tOslo\tNone\tNorway\t0171\t3.96\n",
            "3\t8\t2021-01-03 00:00:00\tGrétrystraat 63\tBrussels\tNone\tBelgium\t1000\t5.94\n",
            "*/\u001b[0m\u001b[32;1m\u001b[1;3m I should query the Invoice table to get the total amount spent by each customer, then join it with the Customer table to get the country.\n",
            "Action: sql_db_query\n",
            "Action Input: SELECT Customer.Country, SUM(Invoice.Total) AS TotalSpent FROM Customer JOIN Invoice ON Customer.CustomerId = Invoice.CustomerId GROUP BY Customer.Country ORDER BY TotalSpent DESC LIMIT 10\u001b[0m\u001b[36;1m\u001b[1;3m[('USA', 523.0600000000003), ('Canada', 303.9599999999999), ('France', 195.09999999999994), ('Brazil', 190.09999999999997), ('Germany', 156.48), ('United Kingdom', 112.85999999999999), ('Czech Republic', 90.24000000000001), ('Portugal', 77.23999999999998), ('India', 75.25999999999999), ('Chile', 46.62)]\u001b[0m\u001b[32;1m\u001b[1;3m I now know the final answer\n",
            "Final Answer: USA\u001b[0m\n",
            "\n",
            "\u001b[1m> Finished chain.\u001b[0m\n"
          ]
        },
        {
          "output_type": "execute_result",
          "data": {
            "text/plain": [
              "'USA'"
            ],
            "application/vnd.google.colaboratory.intrinsic+json": {
              "type": "string"
            }
          },
          "metadata": {},
          "execution_count": 27
        }
      ],
      "source": [
        "agent_executor.run(\n",
        "    \"Which country's customers spent the most?\"\n",
        ")"
      ]
    },
    {
      "cell_type": "markdown",
      "metadata": {
        "id": "JJF36hIbCmFZ"
      },
      "source": [
        "### Agent 任務範例 #2 - 描述表格與 Schema"
      ]
    },
    {
      "cell_type": "code",
      "execution_count": null,
      "metadata": {
        "id": "ArJpB4ijCmFZ",
        "outputId": "d6e529a7-00b8-424e-9799-994f983eeafe",
        "colab": {
          "base_uri": "https://localhost:8080/",
          "height": 539
        }
      },
      "outputs": [
        {
          "output_type": "stream",
          "name": "stdout",
          "text": [
            "\n",
            "\n",
            "\u001b[1m> Entering new SQL Agent Executor chain...\u001b[0m\n",
            "\u001b[32;1m\u001b[1;3mAction: sql_db_list_tables\n",
            "Action Input: \u001b[0m\u001b[38;5;200m\u001b[1;3mAlbum, Artist, Customer, Employee, Genre, Invoice, InvoiceLine, MediaType, Playlist, PlaylistTrack, Track\u001b[0m\u001b[32;1m\u001b[1;3m I should query the schema of the PlaylistTrack table.\n",
            "Action: sql_db_schema\n",
            "Action Input: PlaylistTrack\u001b[0m\u001b[33;1m\u001b[1;3m\n",
            "CREATE TABLE \"PlaylistTrack\" (\n",
            "\t\"PlaylistId\" INTEGER NOT NULL, \n",
            "\t\"TrackId\" INTEGER NOT NULL, \n",
            "\tPRIMARY KEY (\"PlaylistId\", \"TrackId\"), \n",
            "\tFOREIGN KEY(\"TrackId\") REFERENCES \"Track\" (\"TrackId\"), \n",
            "\tFOREIGN KEY(\"PlaylistId\") REFERENCES \"Playlist\" (\"PlaylistId\")\n",
            ")\n",
            "\n",
            "/*\n",
            "3 rows from PlaylistTrack table:\n",
            "PlaylistId\tTrackId\n",
            "1\t3402\n",
            "1\t3389\n",
            "1\t3390\n",
            "*/\u001b[0m\u001b[32;1m\u001b[1;3m I should query the first 10 rows from the PlaylistTrack table.\n",
            "Action: sql_db_query\n",
            "Action Input: SELECT * FROM PlaylistTrack LIMIT 10\u001b[0m\u001b[36;1m\u001b[1;3m[(1, 3402), (1, 3389), (1, 3390), (1, 3391), (1, 3392), (1, 3393), (1, 3394), (1, 3395), (1, 3396), (1, 3397)]\u001b[0m\u001b[32;1m\u001b[1;3m I now know the final answer\n",
            "Final Answer: The PlaylistTrack table contains a list of tracks associated with each playlist.\u001b[0m\n",
            "\n",
            "\u001b[1m> Finished chain.\u001b[0m\n"
          ]
        },
        {
          "output_type": "execute_result",
          "data": {
            "text/plain": [
              "'The PlaylistTrack table contains a list of tracks associated with each playlist.'"
            ],
            "application/vnd.google.colaboratory.intrinsic+json": {
              "type": "string"
            }
          },
          "metadata": {},
          "execution_count": 16
        }
      ],
      "source": [
        "agent_executor.run(\"Describe the playlisttrack table\")"
      ]
    },
    {
      "cell_type": "markdown",
      "metadata": {
        "id": "WDac4rsfCmFb"
      },
      "source": [
        "### Agent 任務範例 #3 - 尋找並修正名詞拼寫錯誤\n",
        "\n",
        "為了過濾包含專有名詞（例如地址、歌曲名稱或藝術家）的欄，我們首先需要仔細檢查拼寫，以便正確過濾數據。\n",
        "\n",
        "我們可以通過使用數據庫中存在的所有不同的專有名詞來創建向量儲存來實現此目的。然後，我們可以讓 Agent 在使用者在問題中包含專有名詞時查詢該向量儲存，以找到該詞的正確拼寫。通過這種方式，Agent 可以確保在構建目標查詢之前了解使用者指的是哪個實體。\n",
        "\n",
        "讓我們採用與 Few-shot 類似的做法，但沒有元數據：僅嵌入專有名詞，然後查詢以獲取與拼寫錯誤的使用者問題最相似的專有名詞。\n",
        "\n",
        "首先，我們需要每個想要實體的唯一值，我們定義一個函數，將結果解析成元素清單："
      ]
    },
    {
      "cell_type": "code",
      "execution_count": null,
      "metadata": {
        "id": "2G7qbrTqCmFb"
      },
      "outputs": [],
      "source": [
        "import ast\n",
        "import re\n",
        "\n",
        "\n",
        "def run_query_save_results(db, query):\n",
        "    res = db.run(query)\n",
        "    res = [el for sub in ast.literal_eval(res) for el in sub if el]\n",
        "    res = [re.sub(r\"\\b\\d+\\b\", \"\", string).strip() for string in res]\n",
        "    return res\n",
        "\n",
        "\n",
        "artists = run_query_save_results(db, \"SELECT Name FROM Artist\")\n",
        "albums = run_query_save_results(db, \"SELECT Title FROM Album\")"
      ]
    },
    {
      "cell_type": "markdown",
      "metadata": {
        "id": "2iEwU7DBCmFb"
      },
      "source": [
        "現在，我們可以繼續建立自訂檢索工具和最終代理："
      ]
    },
    {
      "cell_type": "code",
      "source": [
        "!pip install --quiet faiss-cpu"
      ],
      "metadata": {
        "colab": {
          "base_uri": "https://localhost:8080/"
        },
        "id": "2gGEUJjeT4Mo",
        "outputId": "151deb10-e6ae-4dd3-929b-70902a246b50"
      },
      "execution_count": null,
      "outputs": [
        {
          "output_type": "stream",
          "name": "stdout",
          "text": [
            "\u001b[2K   \u001b[90m━━━━━━━━━━━━━━━━━━━━━━━━━━━━━━━━━━━━━━━━\u001b[0m \u001b[32m31.3/31.3 MB\u001b[0m \u001b[31m29.6 MB/s\u001b[0m eta \u001b[36m0:00:00\u001b[0m\n",
            "\u001b[?25h"
          ]
        }
      ]
    },
    {
      "cell_type": "code",
      "execution_count": null,
      "metadata": {
        "id": "u0khsSpMCmFb"
      },
      "outputs": [],
      "source": [
        "from langchain.tools.retriever import create_retriever_tool\n",
        "from langchain_community.vectorstores import FAISS\n",
        "from langchain_openai import OpenAIEmbeddings\n",
        "\n",
        "texts = artists + albums\n",
        "\n",
        "embeddings = OpenAIEmbeddings()\n",
        "vector_db = FAISS.from_texts(texts, embeddings)\n",
        "retriever = vector_db.as_retriever()\n",
        "\n",
        "retriever_tool = create_retriever_tool(\n",
        "    retriever,\n",
        "    name=\"name_search\",\n",
        "    description=\"use to learn how a piece of data is actually written, can be from names, surnames addresses etc\",\n",
        ")\n",
        "\n",
        "custom_tool_list = [retriever_tool]"
      ]
    },
    {
      "cell_type": "code",
      "execution_count": null,
      "metadata": {
        "id": "X-sUL3V5CmFb"
      },
      "outputs": [],
      "source": [
        "from langchain.agents import AgentType, create_sql_agent\n",
        "from langchain_community.agent_toolkits import SQLDatabaseToolkit\n",
        "from langchain_community.utilities import SQLDatabase\n",
        "from langchain_openai import ChatOpenAI\n",
        "\n",
        "# db = SQLDatabase.from_uri(\"sqlite:///Chinook.db\")\n",
        "llm = ChatOpenAI(model_name=\"gpt-4\", temperature=0)\n",
        "\n",
        "toolkit = SQLDatabaseToolkit(db=db, llm=llm)\n",
        "\n",
        "custom_suffix = \"\"\"\n",
        "If a user asks for me to filter based on proper nouns, I should first check the spelling using the name_search tool.\n",
        "Otherwise, I can then look at the tables in the database to see what I can query.\n",
        "Then I should query the schema of the most relevant tables\n",
        "\"\"\"\n",
        "\n",
        "agent = create_sql_agent(\n",
        "    llm=llm,\n",
        "    toolkit=toolkit,\n",
        "    verbose=True,\n",
        "    agent_type=AgentType.OPENAI_FUNCTIONS,\n",
        "    extra_tools=custom_tool_list,\n",
        "    suffix=custom_suffix,\n",
        ")"
      ]
    },
    {
      "cell_type": "markdown",
      "metadata": {
        "id": "kU5da5t_CmFb"
      },
      "source": [
        "讓我們嘗試一下："
      ]
    },
    {
      "cell_type": "code",
      "execution_count": null,
      "metadata": {
        "id": "4OZriFjaCmFb",
        "outputId": "1aed12b0-e938-45fe-ee29-1f6bc37e6b83",
        "colab": {
          "base_uri": "https://localhost:8080/",
          "height": 1000
        }
      },
      "outputs": [
        {
          "output_type": "stream",
          "name": "stdout",
          "text": [
            "\n",
            "\n",
            "\u001b[1m> Entering new SQL Agent Executor chain...\u001b[0m\n",
            "\u001b[32;1m\u001b[1;3m\n",
            "Invoking: `name_search` with `{'query': 'alis in pains'}`\n",
            "\n",
            "\n",
            "\u001b[0m\u001b[33;1m\u001b[1;3mHouse of Pain\n",
            "\n",
            "Alice In Chains\n",
            "\n",
            "Aisha Duo\n",
            "\n",
            "House Of Pain\u001b[0m\u001b[32;1m\u001b[1;3m\n",
            "Invoking: `sql_db_list_tables` with `{}`\n",
            "responded: The correct band name seems to be \"Alice In Chains\". Now I will check the tables in the database to see which one could contain the information about albums.\n",
            "\n",
            "\u001b[0m\u001b[38;5;200m\u001b[1;3mAlbum, Artist, Customer, Employee, Genre, Invoice, InvoiceLine, MediaType, Playlist, PlaylistTrack, Track\u001b[0m\u001b[32;1m\u001b[1;3m\n",
            "Invoking: `sql_db_schema` with `{'table_names': 'Album, Artist'}`\n",
            "responded: The tables \"Album\" and \"Artist\" seem to be the most relevant for this query. I will now check their schemas to understand their structure and the relationships between them.\n",
            "\n",
            "\u001b[0m\u001b[33;1m\u001b[1;3m\n",
            "CREATE TABLE \"Album\" (\n",
            "\t\"AlbumId\" INTEGER NOT NULL, \n",
            "\t\"Title\" NVARCHAR(160) NOT NULL, \n",
            "\t\"ArtistId\" INTEGER NOT NULL, \n",
            "\tPRIMARY KEY (\"AlbumId\"), \n",
            "\tFOREIGN KEY(\"ArtistId\") REFERENCES \"Artist\" (\"ArtistId\")\n",
            ")\n",
            "\n",
            "/*\n",
            "3 rows from Album table:\n",
            "AlbumId\tTitle\tArtistId\n",
            "1\tFor Those About To Rock We Salute You\t1\n",
            "2\tBalls to the Wall\t2\n",
            "3\tRestless and Wild\t2\n",
            "*/\n",
            "\n",
            "\n",
            "CREATE TABLE \"Artist\" (\n",
            "\t\"ArtistId\" INTEGER NOT NULL, \n",
            "\t\"Name\" NVARCHAR(120), \n",
            "\tPRIMARY KEY (\"ArtistId\")\n",
            ")\n",
            "\n",
            "/*\n",
            "3 rows from Artist table:\n",
            "ArtistId\tName\n",
            "1\tAC/DC\n",
            "2\tAccept\n",
            "3\tAerosmith\n",
            "*/\u001b[0m\u001b[32;1m\u001b[1;3m\n",
            "Invoking: `sql_db_query_checker` with `{'query': \"SELECT COUNT(*) FROM Album JOIN Artist ON Album.ArtistId = Artist.ArtistId WHERE Artist.Name = 'Alice In Chains'\"}`\n",
            "responded: The \"Album\" table has a foreign key \"ArtistId\" that references the \"ArtistId\" in the \"Artist\" table. This means I can join these two tables on this column to find the albums by the artist \"Alice In Chains\". I will now construct the SQL query to find this information.\n",
            "\n",
            "\u001b[0m\u001b[36;1m\u001b[1;3mSELECT COUNT(*) FROM Album JOIN Artist ON Album.ArtistId = Artist.ArtistId WHERE Artist.Name = 'Alice In Chains'\u001b[0m\u001b[32;1m\u001b[1;3m\n",
            "Invoking: `sql_db_query` with `{'query': \"SELECT COUNT(*) FROM Album JOIN Artist ON Album.ArtistId = Artist.ArtistId WHERE Artist.Name = 'Alice In Chains'\"}`\n",
            "\n",
            "\n",
            "\u001b[0m\u001b[36;1m\u001b[1;3m[(1,)]\u001b[0m\u001b[32;1m\u001b[1;3mThe band \"Alice In Chains\" has 1 album in the database.\u001b[0m\n",
            "\n",
            "\u001b[1m> Finished chain.\u001b[0m\n"
          ]
        },
        {
          "output_type": "execute_result",
          "data": {
            "text/plain": [
              "'The band \"Alice In Chains\" has 1 album in the database.'"
            ],
            "application/vnd.google.colaboratory.intrinsic+json": {
              "type": "string"
            }
          },
          "metadata": {},
          "execution_count": 25
        }
      ],
      "source": [
        "agent.run(\"How many albums does alis in pains have?\")"
      ]
    },
    {
      "cell_type": "markdown",
      "metadata": {
        "id": "b9G8jqQuCmFb"
      },
      "source": [
        "正如我們所見，代理使用了 `name_search` 工具來檢查如何正確地針對這個特定藝術家查詢資料庫。"
      ]
    },
    {
      "cell_type": "markdown",
      "metadata": {
        "id": "qdo3mCW3CmFb"
      },
      "source": [
        "### 想了解更多？\n",
        "\n",
        "若要進一步了解 SQL 代理及其運作方式，我們參閱 [SQL Agent Toolkit](/docs/integrations/toolkits/sql_database)文件。\n",
        "\n",
        "您也可以針對其他文件類型查看代理：\n",
        "- [Pandas Agent](/docs/integrations/toolkits/pandas)\n",
        "- [CSV Agent](/docs/integrations/toolkits/csv)"
      ]
    }
  ],
  "metadata": {
    "kernelspec": {
      "display_name": "Python 3 (ipykernel)",
      "language": "python",
      "name": "python3"
    },
    "language_info": {
      "codemirror_mode": {
        "name": "ipython",
        "version": 3
      },
      "file_extension": ".py",
      "mimetype": "text/x-python",
      "name": "python",
      "nbconvert_exporter": "python",
      "pygments_lexer": "ipython3",
      "version": "3.10.1"
    },
    "colab": {
      "provenance": [],
      "include_colab_link": true
    }
  },
  "nbformat": 4,
  "nbformat_minor": 0
}